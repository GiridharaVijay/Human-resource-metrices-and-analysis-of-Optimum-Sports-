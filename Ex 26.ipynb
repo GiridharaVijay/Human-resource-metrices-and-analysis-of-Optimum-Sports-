{
 "cells": [
  {
   "cell_type": "code",
   "execution_count": 1,
   "metadata": {},
   "outputs": [],
   "source": [
    "import pandas as pd\n",
    "import seaborn as sns\n",
    "import matplotlib.pyplot as plt\n",
    "import numpy as np"
   ]
  },
  {
   "cell_type": "code",
   "execution_count": 2,
   "metadata": {},
   "outputs": [
    {
     "data": {
      "text/html": [
       "<div>\n",
       "<style scoped>\n",
       "    .dataframe tbody tr th:only-of-type {\n",
       "        vertical-align: middle;\n",
       "    }\n",
       "\n",
       "    .dataframe tbody tr th {\n",
       "        vertical-align: top;\n",
       "    }\n",
       "\n",
       "    .dataframe thead th {\n",
       "        text-align: right;\n",
       "    }\n",
       "</style>\n",
       "<table border=\"1\" class=\"dataframe\">\n",
       "  <thead>\n",
       "    <tr style=\"text-align: right;\">\n",
       "      <th></th>\n",
       "      <th>HCRI</th>\n",
       "      <th>Employee Satisfaction</th>\n",
       "      <th>Performance Rating</th>\n",
       "    </tr>\n",
       "  </thead>\n",
       "  <tbody>\n",
       "    <tr>\n",
       "      <th>0</th>\n",
       "      <td>84</td>\n",
       "      <td>8</td>\n",
       "      <td>4</td>\n",
       "    </tr>\n",
       "    <tr>\n",
       "      <th>1</th>\n",
       "      <td>86</td>\n",
       "      <td>6</td>\n",
       "      <td>4</td>\n",
       "    </tr>\n",
       "    <tr>\n",
       "      <th>2</th>\n",
       "      <td>45</td>\n",
       "      <td>7</td>\n",
       "      <td>3</td>\n",
       "    </tr>\n",
       "    <tr>\n",
       "      <th>3</th>\n",
       "      <td>46</td>\n",
       "      <td>9</td>\n",
       "      <td>4</td>\n",
       "    </tr>\n",
       "    <tr>\n",
       "      <th>4</th>\n",
       "      <td>87</td>\n",
       "      <td>5</td>\n",
       "      <td>3</td>\n",
       "    </tr>\n",
       "  </tbody>\n",
       "</table>\n",
       "</div>"
      ],
      "text/plain": [
       "   HCRI  Employee Satisfaction  Performance Rating\n",
       "0    84                      8                   4\n",
       "1    86                      6                   4\n",
       "2    45                      7                   3\n",
       "3    46                      9                   4\n",
       "4    87                      5                   3"
      ]
     },
     "execution_count": 2,
     "metadata": {},
     "output_type": "execute_result"
    }
   ],
   "source": [
    "df= pd.read_excel(\"D:\\DCS\\Sem 5\\Human Resourse System Development Lab\\Ex No 3.xlsx\",sheet_name=\"Ex 25 Response\")\n",
    "df.head()"
   ]
  },
  {
   "cell_type": "code",
   "execution_count": 3,
   "metadata": {},
   "outputs": [
    {
     "data": {
      "text/plain": [
       "HCRI                     int64\n",
       "Employee Satisfaction    int64\n",
       "Performance Rating       int64\n",
       "dtype: object"
      ]
     },
     "execution_count": 3,
     "metadata": {},
     "output_type": "execute_result"
    }
   ],
   "source": [
    "df.dtypes"
   ]
  },
  {
   "cell_type": "code",
   "execution_count": 4,
   "metadata": {},
   "outputs": [
    {
     "name": "stdout",
     "output_type": "stream",
     "text": [
      "                           HCRI  Employee Satisfaction\n",
      "HCRI                   1.000000              -0.054805\n",
      "Employee Satisfaction -0.054805               1.000000\n"
     ]
    }
   ],
   "source": [
    "df_1=df[['HCRI','Employee Satisfaction']]\n",
    "cor = df_1.corr()\n",
    "print(cor)"
   ]
  },
  {
   "cell_type": "code",
   "execution_count": 5,
   "metadata": {},
   "outputs": [
    {
     "data": {
      "text/plain": [
       "HCRI                     0\n",
       "Employee Satisfaction    0\n",
       "Performance Rating       0\n",
       "dtype: int64"
      ]
     },
     "execution_count": 5,
     "metadata": {},
     "output_type": "execute_result"
    }
   ],
   "source": [
    "df.isnull().sum()"
   ]
  },
  {
   "cell_type": "code",
   "execution_count": 6,
   "metadata": {},
   "outputs": [
    {
     "data": {
      "text/plain": [
       "HCRI                     100\n",
       "Employee Satisfaction    100\n",
       "Performance Rating       100\n",
       "dtype: int64"
      ]
     },
     "execution_count": 6,
     "metadata": {},
     "output_type": "execute_result"
    }
   ],
   "source": [
    "df.count()"
   ]
  },
  {
   "cell_type": "code",
   "execution_count": 7,
   "metadata": {},
   "outputs": [],
   "source": [
    "from sklearn.cluster import KMeans\n",
    "from sklearn.preprocessing import StandardScaler"
   ]
  },
  {
   "cell_type": "code",
   "execution_count": 8,
   "metadata": {},
   "outputs": [],
   "source": [
    "hcri=df['Employee Satisfaction'].values\n",
    "age=df['Performance Rating'].values\n",
    "feat=np.column_stack((hcri,age))\n",
    "model=KMeans(n_clusters=5,n_init=10)\n",
    "model.fit(feat)\n",
    "label = model.predict(feat)\n",
    "cluster_centers = model.cluster_centers_\n",
    "df['Cluster'] = label"
   ]
  },
  {
   "cell_type": "code",
   "execution_count": 9,
   "metadata": {},
   "outputs": [
    {
     "name": "stdout",
     "output_type": "stream",
     "text": [
      "    Employee Satisfaction  Performance Rating  Cluster\n",
      "0                       8                   4        4\n",
      "1                       6                   4        3\n",
      "2                       7                   3        0\n",
      "3                       9                   4        4\n",
      "4                       5                   3        2\n",
      "..                    ...                 ...      ...\n",
      "95                      8                   3        1\n",
      "96                      9                   4        4\n",
      "97                      7                   4        3\n",
      "98                      6                   3        0\n",
      "99                      8                   3        1\n",
      "\n",
      "[100 rows x 3 columns]\n"
     ]
    }
   ],
   "source": [
    "cluster_df = pd.DataFrame({\n",
    "    'Employee Satisfaction': df['Employee Satisfaction'],\n",
    "    'Performance Rating': df['Performance Rating'],\n",
    "    'Cluster': df['Cluster']\n",
    "})\n",
    "print(cluster_df)"
   ]
  }
 ],
 "metadata": {
  "kernelspec": {
   "display_name": "Python 3",
   "language": "python",
   "name": "python3"
  },
  "language_info": {
   "codemirror_mode": {
    "name": "ipython",
    "version": 3
   },
   "file_extension": ".py",
   "mimetype": "text/x-python",
   "name": "python",
   "nbconvert_exporter": "python",
   "pygments_lexer": "ipython3",
   "version": "3.11.5"
  },
  "orig_nbformat": 4
 },
 "nbformat": 4,
 "nbformat_minor": 2
}
