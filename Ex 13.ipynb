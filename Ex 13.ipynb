{
 "cells": [
  {
   "cell_type": "code",
   "execution_count": 1,
   "metadata": {},
   "outputs": [],
   "source": [
    "import pandas as pd\n",
    "import seaborn as sns\n",
    "import matplotlib.pyplot as plt\n",
    "import numpy as num"
   ]
  },
  {
   "cell_type": "code",
   "execution_count": 2,
   "metadata": {},
   "outputs": [
    {
     "data": {
      "text/html": [
       "<div>\n",
       "<style scoped>\n",
       "    .dataframe tbody tr th:only-of-type {\n",
       "        vertical-align: middle;\n",
       "    }\n",
       "\n",
       "    .dataframe tbody tr th {\n",
       "        vertical-align: top;\n",
       "    }\n",
       "\n",
       "    .dataframe thead th {\n",
       "        text-align: right;\n",
       "    }\n",
       "</style>\n",
       "<table border=\"1\" class=\"dataframe\">\n",
       "  <thead>\n",
       "    <tr style=\"text-align: right;\">\n",
       "      <th></th>\n",
       "      <th>SALES</th>\n",
       "      <th>PROFIT</th>\n",
       "      <th>IMPORT AND EXPORT COST</th>\n",
       "    </tr>\n",
       "  </thead>\n",
       "  <tbody>\n",
       "    <tr>\n",
       "      <th>0</th>\n",
       "      <td>5097</td>\n",
       "      <td>36976</td>\n",
       "      <td>1160</td>\n",
       "    </tr>\n",
       "    <tr>\n",
       "      <th>1</th>\n",
       "      <td>5405</td>\n",
       "      <td>43450</td>\n",
       "      <td>1999</td>\n",
       "    </tr>\n",
       "    <tr>\n",
       "      <th>2</th>\n",
       "      <td>2129</td>\n",
       "      <td>42460</td>\n",
       "      <td>1779</td>\n",
       "    </tr>\n",
       "    <tr>\n",
       "      <th>3</th>\n",
       "      <td>9855</td>\n",
       "      <td>45577</td>\n",
       "      <td>1869</td>\n",
       "    </tr>\n",
       "    <tr>\n",
       "      <th>4</th>\n",
       "      <td>3149</td>\n",
       "      <td>37585</td>\n",
       "      <td>2445</td>\n",
       "    </tr>\n",
       "  </tbody>\n",
       "</table>\n",
       "</div>"
      ],
      "text/plain": [
       "   SALES  PROFIT  IMPORT AND EXPORT COST\n",
       "0   5097   36976                    1160\n",
       "1   5405   43450                    1999\n",
       "2   2129   42460                    1779\n",
       "3   9855   45577                    1869\n",
       "4   3149   37585                    2445"
      ]
     },
     "execution_count": 2,
     "metadata": {},
     "output_type": "execute_result"
    }
   ],
   "source": [
    "df=pd.read_excel(\"C:\\\\Users\\\\New Pc\\\\Documents\\\\ex.17.xlsx\",sheet_name=\"ex12\")\n",
    "df.head()"
   ]
  },
  {
   "cell_type": "code",
   "execution_count": 3,
   "metadata": {},
   "outputs": [
    {
     "data": {
      "text/plain": [
       "SALES                     int64\n",
       "PROFIT                    int64\n",
       "IMPORT AND EXPORT COST    int64\n",
       "dtype: object"
      ]
     },
     "execution_count": 3,
     "metadata": {},
     "output_type": "execute_result"
    }
   ],
   "source": [
    "df.dtypes"
   ]
  },
  {
   "cell_type": "code",
   "execution_count": 4,
   "metadata": {},
   "outputs": [
    {
     "name": "stdout",
     "output_type": "stream",
     "text": [
      "          SALES   PROFIT\n",
      "SALES   1.00000  0.04901\n",
      "PROFIT  0.04901  1.00000\n"
     ]
    }
   ],
   "source": [
    "df_1= df[['SALES','PROFIT']]\n",
    "cor = df_1.corr()\n",
    "print(cor.head())"
   ]
  },
  {
   "cell_type": "code",
   "execution_count": 5,
   "metadata": {},
   "outputs": [
    {
     "data": {
      "text/plain": [
       "SALES                     0\n",
       "PROFIT                    0\n",
       "IMPORT AND EXPORT COST    0\n",
       "dtype: int64"
      ]
     },
     "execution_count": 5,
     "metadata": {},
     "output_type": "execute_result"
    }
   ],
   "source": [
    "df.isnull().sum()"
   ]
  },
  {
   "cell_type": "code",
   "execution_count": 6,
   "metadata": {},
   "outputs": [
    {
     "data": {
      "text/plain": [
       "SALES                     148\n",
       "PROFIT                    148\n",
       "IMPORT AND EXPORT COST    148\n",
       "dtype: int64"
      ]
     },
     "execution_count": 6,
     "metadata": {},
     "output_type": "execute_result"
    }
   ],
   "source": [
    "df.count()"
   ]
  },
  {
   "cell_type": "code",
   "execution_count": 7,
   "metadata": {},
   "outputs": [],
   "source": [
    "from sklearn.cluster import KMeans\n",
    "from sklearn.preprocessing import StandardScaler"
   ]
  },
  {
   "cell_type": "code",
   "execution_count": 8,
   "metadata": {},
   "outputs": [],
   "source": [
    "profit=df['PROFIT'].values\n",
    "cost=df['IMPORT AND EXPORT COST'].values\n",
    "feat=num.column_stack((profit,cost))\n",
    "model=KMeans(n_clusters=5,n_init=10)\n",
    "model.fit(feat)\n",
    "label = model.predict(feat)\n",
    "cluster_centers = model.cluster_centers_\n",
    "df['cluster']=label\n"
   ]
  },
  {
   "cell_type": "code",
   "execution_count": null,
   "metadata": {},
   "outputs": [
    {
     "name": "stdout",
     "output_type": "stream",
     "text": [
      "     profit  cost  Cluster\n",
      "0     37506  2860        1\n",
      "1     42781  2006        2\n",
      "2     44955  1912        2\n",
      "3     49594  1538        0\n",
      "4     36553  1994        1\n",
      "..      ...   ...      ...\n",
      "143   40536  2983        4\n",
      "144   43015  1339        2\n",
      "145   33323  1236        3\n",
      "146   46102  2357        2\n",
      "147   31347  1402        3\n",
      "\n",
      "[148 rows x 3 columns]\n"
     ]
    }
   ],
   "source": [
    "cluster_df = pd.DataFrame({\n",
    "    'profit': df['PROFIT'],\n",
    "    'cost': df['IMPORT AND EXPORT COST'],\n",
    "    'Cluster': df['cluster']\n",
    "})\n",
    "print(cluster_df)"
   ]
  }
 ],
 "metadata": {
  "kernelspec": {
   "display_name": "Python 3",
   "language": "python",
   "name": "python3"
  },
  "language_info": {
   "codemirror_mode": {
    "name": "ipython",
    "version": 3
   },
   "file_extension": ".py",
   "mimetype": "text/x-python",
   "name": "python",
   "nbconvert_exporter": "python",
   "pygments_lexer": "ipython3",
   "version": "3.11.2"
  },
  "orig_nbformat": 4
 },
 "nbformat": 4,
 "nbformat_minor": 2
}
