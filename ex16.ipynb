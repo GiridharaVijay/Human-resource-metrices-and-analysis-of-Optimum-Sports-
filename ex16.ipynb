{
 "cells": [
  {
   "cell_type": "code",
   "execution_count": 13,
   "metadata": {},
   "outputs": [],
   "source": [
    "import pandas as pd\n",
    "import seaborn as sns\n",
    "import matplotlib.pyplot as plt\n",
    "import numpy as num"
   ]
  },
  {
   "cell_type": "code",
   "execution_count": 14,
   "metadata": {},
   "outputs": [
    {
     "data": {
      "text/html": [
       "<div>\n",
       "<style scoped>\n",
       "    .dataframe tbody tr th:only-of-type {\n",
       "        vertical-align: middle;\n",
       "    }\n",
       "\n",
       "    .dataframe tbody tr th {\n",
       "        vertical-align: top;\n",
       "    }\n",
       "\n",
       "    .dataframe thead th {\n",
       "        text-align: right;\n",
       "    }\n",
       "</style>\n",
       "<table border=\"1\" class=\"dataframe\">\n",
       "  <thead>\n",
       "    <tr style=\"text-align: right;\">\n",
       "      <th></th>\n",
       "      <th>Cost involved in recruiting</th>\n",
       "      <th>Induction program cost</th>\n",
       "      <th>New hires performance satisfaction</th>\n",
       "      <th>Time to fill</th>\n",
       "    </tr>\n",
       "  </thead>\n",
       "  <tbody>\n",
       "    <tr>\n",
       "      <th>0</th>\n",
       "      <td>3622</td>\n",
       "      <td>4819</td>\n",
       "      <td>1</td>\n",
       "      <td>41</td>\n",
       "    </tr>\n",
       "    <tr>\n",
       "      <th>1</th>\n",
       "      <td>2730</td>\n",
       "      <td>6994</td>\n",
       "      <td>3</td>\n",
       "      <td>46</td>\n",
       "    </tr>\n",
       "    <tr>\n",
       "      <th>2</th>\n",
       "      <td>3366</td>\n",
       "      <td>4986</td>\n",
       "      <td>4</td>\n",
       "      <td>49</td>\n",
       "    </tr>\n",
       "    <tr>\n",
       "      <th>3</th>\n",
       "      <td>1408</td>\n",
       "      <td>6456</td>\n",
       "      <td>3</td>\n",
       "      <td>30</td>\n",
       "    </tr>\n",
       "    <tr>\n",
       "      <th>4</th>\n",
       "      <td>1196</td>\n",
       "      <td>6007</td>\n",
       "      <td>1</td>\n",
       "      <td>25</td>\n",
       "    </tr>\n",
       "  </tbody>\n",
       "</table>\n",
       "</div>"
      ],
      "text/plain": [
       "   Cost involved in recruiting  Induction program cost   \n",
       "0                         3622                    4819  \\\n",
       "1                         2730                    6994   \n",
       "2                         3366                    4986   \n",
       "3                         1408                    6456   \n",
       "4                         1196                    6007   \n",
       "\n",
       "   New hires performance satisfaction  Time to fill  \n",
       "0                                   1            41  \n",
       "1                                   3            46  \n",
       "2                                   4            49  \n",
       "3                                   3            30  \n",
       "4                                   1            25  "
      ]
     },
     "execution_count": 14,
     "metadata": {},
     "output_type": "execute_result"
    }
   ],
   "source": [
    "df=pd.read_excel(\"C:\\\\Users\\\\New Pc\\\\Documents\\\\EX.17.xlsx\",sheet_name=\"ex.15\")\n",
    "df.head()"
   ]
  },
  {
   "cell_type": "code",
   "execution_count": 15,
   "metadata": {},
   "outputs": [
    {
     "data": {
      "text/plain": [
       "Cost involved in recruiting           int64\n",
       "Induction program cost                int64\n",
       "New hires performance satisfaction    int64\n",
       "Time to fill                          int64\n",
       "dtype: object"
      ]
     },
     "execution_count": 15,
     "metadata": {},
     "output_type": "execute_result"
    }
   ],
   "source": [
    "df.dtypes"
   ]
  },
  {
   "cell_type": "code",
   "execution_count": 16,
   "metadata": {},
   "outputs": [
    {
     "name": "stdout",
     "output_type": "stream",
     "text": [
      "                                    New hires performance satisfaction   \n",
      "New hires performance satisfaction                            1.000000  \\\n",
      "Time to fill                                                  0.138664   \n",
      "\n",
      "                                    Time to fill  \n",
      "New hires performance satisfaction      0.138664  \n",
      "Time to fill                            1.000000  \n"
     ]
    }
   ],
   "source": [
    "df_1= df[['New hires performance satisfaction','Time to fill']]\n",
    "cor = df_1.corr()\n",
    "print(cor.head())"
   ]
  },
  {
   "cell_type": "code",
   "execution_count": 17,
   "metadata": {},
   "outputs": [
    {
     "data": {
      "text/plain": [
       "Cost involved in recruiting           0\n",
       "Induction program cost                0\n",
       "New hires performance satisfaction    0\n",
       "Time to fill                          0\n",
       "dtype: int64"
      ]
     },
     "execution_count": 17,
     "metadata": {},
     "output_type": "execute_result"
    }
   ],
   "source": [
    "df.isnull().sum()"
   ]
  },
  {
   "cell_type": "code",
   "execution_count": 18,
   "metadata": {},
   "outputs": [
    {
     "data": {
      "text/plain": [
       "Cost involved in recruiting           148\n",
       "Induction program cost                148\n",
       "New hires performance satisfaction    148\n",
       "Time to fill                          148\n",
       "dtype: int64"
      ]
     },
     "execution_count": 18,
     "metadata": {},
     "output_type": "execute_result"
    }
   ],
   "source": [
    "df.count()"
   ]
  },
  {
   "cell_type": "code",
   "execution_count": 19,
   "metadata": {},
   "outputs": [],
   "source": [
    "from sklearn.cluster import KMeans\n",
    "from sklearn.preprocessing import StandardScaler"
   ]
  },
  {
   "cell_type": "code",
   "execution_count": 20,
   "metadata": {},
   "outputs": [],
   "source": [
    "profit=df['New hires performance satisfaction'].values\n",
    "cost=df['Induction program cost'].values\n",
    "feat=num.column_stack((profit,cost))\n",
    "model=KMeans(n_clusters=5,n_init=10)\n",
    "model.fit(feat)\n",
    "label = model.predict(feat)\n",
    "cluster_centers = model.cluster_centers_\n",
    "df['cluster']=label\n"
   ]
  },
  {
   "cell_type": "code",
   "execution_count": 21,
   "metadata": {},
   "outputs": [
    {
     "name": "stdout",
     "output_type": "stream",
     "text": [
      "     New hires performance satisfaction  Induction program cost  Cluster\n",
      "0                                     1                    4819        4\n",
      "1                                     3                    6994        3\n",
      "2                                     4                    4986        4\n",
      "3                                     3                    6456        3\n",
      "4                                     1                    6007        0\n",
      "..                                  ...                     ...      ...\n",
      "143                                   1                    4086        1\n",
      "144                                   2                    5224        2\n",
      "145                                   3                    6108        0\n",
      "146                                   4                    4500        1\n",
      "147                                   2                    6060        0\n",
      "\n",
      "[148 rows x 3 columns]\n"
     ]
    }
   ],
   "source": [
    "cluster_df = pd.DataFrame({\n",
    "    'New hires performance satisfaction': df['New hires performance satisfaction'],\n",
    "    'Induction program cost': df['Induction program cost'],\n",
    "    'Cluster': df['cluster']\n",
    "})\n",
    "print(cluster_df)"
   ]
  },
  {
   "cell_type": "code",
   "execution_count": 22,
   "metadata": {},
   "outputs": [],
   "source": [
    "profit=df['Cost involved in recruiting'].values\n",
    "cost=df['Induction program cost'].values\n",
    "feat=num.column_stack((profit,cost))\n",
    "model=KMeans(n_clusters=5,n_init=10)\n",
    "model.fit(feat)\n",
    "label = model.predict(feat)\n",
    "cluster_centers = model.cluster_centers_\n",
    "df['cluster']=label\n"
   ]
  },
  {
   "cell_type": "code",
   "execution_count": 23,
   "metadata": {},
   "outputs": [
    {
     "name": "stdout",
     "output_type": "stream",
     "text": [
      "     Cost involved in recruiting  Induction program cost  Cluster\n",
      "0                           3622                    4819        0\n",
      "1                           2730                    6994        2\n",
      "2                           3366                    4986        0\n",
      "3                           1408                    6456        1\n",
      "4                           1196                    6007        1\n",
      "..                           ...                     ...      ...\n",
      "143                         2318                    4086        3\n",
      "144                         4205                    5224        4\n",
      "145                         3206                    6108        2\n",
      "146                         4039                    4500        4\n",
      "147                         2617                    6060        1\n",
      "\n",
      "[148 rows x 3 columns]\n"
     ]
    }
   ],
   "source": [
    "cluster_df = pd.DataFrame({\n",
    "    'Cost involved in recruiting': df['Cost involved in recruiting'],\n",
    "    'Induction program cost': df['Induction program cost'],\n",
    "    'Cluster': df['cluster']\n",
    "})\n",
    "print(cluster_df)"
   ]
  }
 ],
 "metadata": {
  "kernelspec": {
   "display_name": "Python 3",
   "language": "python",
   "name": "python3"
  },
  "language_info": {
   "codemirror_mode": {
    "name": "ipython",
    "version": 3
   },
   "file_extension": ".py",
   "mimetype": "text/x-python",
   "name": "python",
   "nbconvert_exporter": "python",
   "pygments_lexer": "ipython3",
   "version": "3.11.2"
  },
  "orig_nbformat": 4
 },
 "nbformat": 4,
 "nbformat_minor": 2
}
