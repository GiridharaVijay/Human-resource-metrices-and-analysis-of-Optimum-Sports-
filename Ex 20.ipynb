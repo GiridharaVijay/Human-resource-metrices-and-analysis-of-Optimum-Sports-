{
 "cells": [
  {
   "cell_type": "code",
   "execution_count": 106,
   "metadata": {},
   "outputs": [],
   "source": [
    "import pandas as pd\n",
    "import seaborn as sns\n",
    "import matplotlib.pyplot as plt\n",
    "import numpy as np"
   ]
  },
  {
   "cell_type": "code",
   "execution_count": 107,
   "metadata": {},
   "outputs": [
    {
     "data": {
      "text/html": [
       "<div>\n",
       "<style scoped>\n",
       "    .dataframe tbody tr th:only-of-type {\n",
       "        vertical-align: middle;\n",
       "    }\n",
       "\n",
       "    .dataframe tbody tr th {\n",
       "        vertical-align: top;\n",
       "    }\n",
       "\n",
       "    .dataframe thead th {\n",
       "        text-align: right;\n",
       "    }\n",
       "</style>\n",
       "<table border=\"1\" class=\"dataframe\">\n",
       "  <thead>\n",
       "    <tr style=\"text-align: right;\">\n",
       "      <th></th>\n",
       "      <th>Q1</th>\n",
       "      <th>Q2</th>\n",
       "      <th>Q3</th>\n",
       "      <th>Q4</th>\n",
       "      <th>Q5</th>\n",
       "      <th>Q6</th>\n",
       "      <th>Q7</th>\n",
       "      <th>Q8</th>\n",
       "      <th>Q9</th>\n",
       "      <th>Q10</th>\n",
       "      <th>Q11</th>\n",
       "      <th>Q12</th>\n",
       "      <th>Performance Satisfaction</th>\n",
       "      <th>Employee Satisfaction</th>\n",
       "    </tr>\n",
       "  </thead>\n",
       "  <tbody>\n",
       "    <tr>\n",
       "      <th>0</th>\n",
       "      <td>5</td>\n",
       "      <td>5</td>\n",
       "      <td>4</td>\n",
       "      <td>2</td>\n",
       "      <td>2</td>\n",
       "      <td>2</td>\n",
       "      <td>3</td>\n",
       "      <td>3</td>\n",
       "      <td>5</td>\n",
       "      <td>1</td>\n",
       "      <td>3</td>\n",
       "      <td>1</td>\n",
       "      <td>4.2</td>\n",
       "      <td>8</td>\n",
       "    </tr>\n",
       "    <tr>\n",
       "      <th>1</th>\n",
       "      <td>2</td>\n",
       "      <td>4</td>\n",
       "      <td>4</td>\n",
       "      <td>4</td>\n",
       "      <td>1</td>\n",
       "      <td>2</td>\n",
       "      <td>1</td>\n",
       "      <td>2</td>\n",
       "      <td>5</td>\n",
       "      <td>1</td>\n",
       "      <td>4</td>\n",
       "      <td>5</td>\n",
       "      <td>4.5</td>\n",
       "      <td>6</td>\n",
       "    </tr>\n",
       "    <tr>\n",
       "      <th>2</th>\n",
       "      <td>3</td>\n",
       "      <td>1</td>\n",
       "      <td>5</td>\n",
       "      <td>5</td>\n",
       "      <td>1</td>\n",
       "      <td>3</td>\n",
       "      <td>2</td>\n",
       "      <td>5</td>\n",
       "      <td>3</td>\n",
       "      <td>1</td>\n",
       "      <td>1</td>\n",
       "      <td>5</td>\n",
       "      <td>4.0</td>\n",
       "      <td>7</td>\n",
       "    </tr>\n",
       "    <tr>\n",
       "      <th>3</th>\n",
       "      <td>2</td>\n",
       "      <td>5</td>\n",
       "      <td>1</td>\n",
       "      <td>2</td>\n",
       "      <td>2</td>\n",
       "      <td>2</td>\n",
       "      <td>1</td>\n",
       "      <td>5</td>\n",
       "      <td>2</td>\n",
       "      <td>4</td>\n",
       "      <td>2</td>\n",
       "      <td>3</td>\n",
       "      <td>4.8</td>\n",
       "      <td>9</td>\n",
       "    </tr>\n",
       "    <tr>\n",
       "      <th>4</th>\n",
       "      <td>5</td>\n",
       "      <td>4</td>\n",
       "      <td>2</td>\n",
       "      <td>2</td>\n",
       "      <td>5</td>\n",
       "      <td>1</td>\n",
       "      <td>3</td>\n",
       "      <td>3</td>\n",
       "      <td>4</td>\n",
       "      <td>4</td>\n",
       "      <td>4</td>\n",
       "      <td>1</td>\n",
       "      <td>4.3</td>\n",
       "      <td>5</td>\n",
       "    </tr>\n",
       "  </tbody>\n",
       "</table>\n",
       "</div>"
      ],
      "text/plain": [
       "   Q1  Q2  Q3  Q4  Q5  Q6  Q7  Q8  Q9  Q10  Q11  Q12  \\\n",
       "0   5   5   4   2   2   2   3   3   5    1    3    1   \n",
       "1   2   4   4   4   1   2   1   2   5    1    4    5   \n",
       "2   3   1   5   5   1   3   2   5   3    1    1    5   \n",
       "3   2   5   1   2   2   2   1   5   2    4    2    3   \n",
       "4   5   4   2   2   5   1   3   3   4    4    4    1   \n",
       "\n",
       "   Performance Satisfaction  Employee Satisfaction  \n",
       "0                       4.2                      8  \n",
       "1                       4.5                      6  \n",
       "2                       4.0                      7  \n",
       "3                       4.8                      9  \n",
       "4                       4.3                      5  "
      ]
     },
     "execution_count": 107,
     "metadata": {},
     "output_type": "execute_result"
    }
   ],
   "source": [
    "df= pd.read_excel(\"D:\\DCS\\Sem 5\\Human Resourse System Development Lab\\Ex No 3.xlsx\",sheet_name=\"Ex 19 Response\",header=1)\n",
    "df.head()"
   ]
  },
  {
   "cell_type": "code",
   "execution_count": 108,
   "metadata": {},
   "outputs": [
    {
     "data": {
      "text/plain": [
       "Q1                            int64\n",
       "Q2                            int64\n",
       "Q3                            int64\n",
       "Q4                            int64\n",
       "Q5                            int64\n",
       "Q6                            int64\n",
       "Q7                            int64\n",
       "Q8                            int64\n",
       "Q9                            int64\n",
       "Q10                           int64\n",
       "Q11                           int64\n",
       "Q12                           int64\n",
       "Performance Satisfaction    float64\n",
       "Employee Satisfaction         int64\n",
       "dtype: object"
      ]
     },
     "execution_count": 108,
     "metadata": {},
     "output_type": "execute_result"
    }
   ],
   "source": [
    "df.dtypes"
   ]
  },
  {
   "cell_type": "code",
   "execution_count": 109,
   "metadata": {},
   "outputs": [
    {
     "name": "stdout",
     "output_type": "stream",
     "text": [
      "                                Q4        Q5        Q6  \\\n",
      "Q4                        1.000000 -0.130523 -0.066169   \n",
      "Q5                       -0.130523  1.000000  0.154370   \n",
      "Q6                       -0.066169  0.154370  1.000000   \n",
      "Performance Satisfaction -0.014865 -0.018160  0.009078   \n",
      "\n",
      "                          Performance Satisfaction  \n",
      "Q4                                       -0.014865  \n",
      "Q5                                       -0.018160  \n",
      "Q6                                        0.009078  \n",
      "Performance Satisfaction                  1.000000  \n"
     ]
    }
   ],
   "source": [
    "df_1=df[['Q4','Q5','Q6','Performance Satisfaction']]\n",
    "cor = df_1.corr()\n",
    "print(cor)"
   ]
  },
  {
   "cell_type": "code",
   "execution_count": 110,
   "metadata": {},
   "outputs": [
    {
     "data": {
      "text/plain": [
       "Q1                          0\n",
       "Q2                          0\n",
       "Q3                          0\n",
       "Q4                          0\n",
       "Q5                          0\n",
       "Q6                          0\n",
       "Q7                          0\n",
       "Q8                          0\n",
       "Q9                          0\n",
       "Q10                         0\n",
       "Q11                         0\n",
       "Q12                         0\n",
       "Performance Satisfaction    0\n",
       "Employee Satisfaction       0\n",
       "dtype: int64"
      ]
     },
     "execution_count": 110,
     "metadata": {},
     "output_type": "execute_result"
    }
   ],
   "source": [
    "df.isnull().sum()"
   ]
  },
  {
   "cell_type": "code",
   "execution_count": 111,
   "metadata": {},
   "outputs": [
    {
     "data": {
      "text/plain": [
       "Q1                          100\n",
       "Q2                          100\n",
       "Q3                          100\n",
       "Q4                          100\n",
       "Q5                          100\n",
       "Q6                          100\n",
       "Q7                          100\n",
       "Q8                          100\n",
       "Q9                          100\n",
       "Q10                         100\n",
       "Q11                         100\n",
       "Q12                         100\n",
       "Performance Satisfaction    100\n",
       "Employee Satisfaction       100\n",
       "dtype: int64"
      ]
     },
     "execution_count": 111,
     "metadata": {},
     "output_type": "execute_result"
    }
   ],
   "source": [
    "df.count()"
   ]
  },
  {
   "cell_type": "code",
   "execution_count": 112,
   "metadata": {},
   "outputs": [],
   "source": [
    "from sklearn.cluster import KMeans\n",
    "from sklearn.preprocessing import StandardScaler"
   ]
  },
  {
   "cell_type": "code",
   "execution_count": 113,
   "metadata": {},
   "outputs": [],
   "source": [
    "hcri=df[['Q1','Q2','Q3']].values\n",
    "age=df['Employee Satisfaction'].values\n",
    "feat=np.column_stack((hcri,age))\n",
    "model=KMeans(n_clusters=5,n_init=10)\n",
    "model.fit(feat)\n",
    "label = model.predict(feat)\n",
    "cluster_centers = model.cluster_centers_\n",
    "df['Cluster'] = label"
   ]
  },
  {
   "cell_type": "code",
   "execution_count": 114,
   "metadata": {},
   "outputs": [
    {
     "name": "stdout",
     "output_type": "stream",
     "text": [
      "   Q1  Q2  Q3  Employee Satisfaction  Cluster\n",
      "0   5   5   4                      8        0\n",
      "1   2   4   4                      6        1\n",
      "2   3   1   5                      7        2\n",
      "3   2   5   1                      9        0\n",
      "4   5   4   2                      5        4\n"
     ]
    }
   ],
   "source": [
    "cluster_df = pd.DataFrame({\n",
    "    'Q1': df['Q1'].values,\n",
    "    'Q2': df['Q2'].values,\n",
    "    'Q3': df['Q3'].values,\n",
    "    'Employee Satisfaction': df['Employee Satisfaction'],\n",
    "    'Cluster': df['Cluster']\n",
    "})\n",
    "print(cluster_df.head())"
   ]
  }
 ],
 "metadata": {
  "kernelspec": {
   "display_name": "Python 3",
   "language": "python",
   "name": "python3"
  },
  "language_info": {
   "codemirror_mode": {
    "name": "ipython",
    "version": 3
   },
   "file_extension": ".py",
   "mimetype": "text/x-python",
   "name": "python",
   "nbconvert_exporter": "python",
   "pygments_lexer": "ipython3",
   "version": "3.11.5"
  },
  "orig_nbformat": 4
 },
 "nbformat": 4,
 "nbformat_minor": 2
}
