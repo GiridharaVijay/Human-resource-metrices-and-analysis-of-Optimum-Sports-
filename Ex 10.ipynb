{
 "cells": [
  {
   "cell_type": "code",
   "execution_count": 35,
   "metadata": {},
   "outputs": [],
   "source": [
    "import pandas as pd\n",
    "import seaborn as sns\n",
    "import matplotlib.pyplot as plt\n",
    "import numpy as num"
   ]
  },
  {
   "cell_type": "code",
   "execution_count": 36,
   "metadata": {},
   "outputs": [
    {
     "data": {
      "text/html": [
       "<div>\n",
       "<style scoped>\n",
       "    .dataframe tbody tr th:only-of-type {\n",
       "        vertical-align: middle;\n",
       "    }\n",
       "\n",
       "    .dataframe tbody tr th {\n",
       "        vertical-align: top;\n",
       "    }\n",
       "\n",
       "    .dataframe thead th {\n",
       "        text-align: right;\n",
       "    }\n",
       "</style>\n",
       "<table border=\"1\" class=\"dataframe\">\n",
       "  <thead>\n",
       "    <tr style=\"text-align: right;\">\n",
       "      <th></th>\n",
       "      <th>Name</th>\n",
       "      <th>Age</th>\n",
       "      <th>Designation</th>\n",
       "      <th>HCRI</th>\n",
       "      <th>BARS</th>\n",
       "    </tr>\n",
       "  </thead>\n",
       "  <tbody>\n",
       "    <tr>\n",
       "      <th>0</th>\n",
       "      <td>Jamarion</td>\n",
       "      <td>36</td>\n",
       "      <td>employe</td>\n",
       "      <td>0.78</td>\n",
       "      <td>4</td>\n",
       "    </tr>\n",
       "    <tr>\n",
       "      <th>1</th>\n",
       "      <td>Gabrielle</td>\n",
       "      <td>45</td>\n",
       "      <td>supervisor</td>\n",
       "      <td>0.71</td>\n",
       "      <td>3</td>\n",
       "    </tr>\n",
       "    <tr>\n",
       "      <th>2</th>\n",
       "      <td>Savion</td>\n",
       "      <td>33</td>\n",
       "      <td>staff</td>\n",
       "      <td>0.77</td>\n",
       "      <td>3</td>\n",
       "    </tr>\n",
       "    <tr>\n",
       "      <th>3</th>\n",
       "      <td>Trevin</td>\n",
       "      <td>40</td>\n",
       "      <td>manager</td>\n",
       "      <td>0.80</td>\n",
       "      <td>2</td>\n",
       "    </tr>\n",
       "    <tr>\n",
       "      <th>4</th>\n",
       "      <td>Hailie</td>\n",
       "      <td>33</td>\n",
       "      <td>employe</td>\n",
       "      <td>0.78</td>\n",
       "      <td>3</td>\n",
       "    </tr>\n",
       "  </tbody>\n",
       "</table>\n",
       "</div>"
      ],
      "text/plain": [
       "        Name  Age Designation  HCRI  BARS\n",
       "0   Jamarion   36     employe  0.78     4\n",
       "1  Gabrielle   45  supervisor  0.71     3\n",
       "2     Savion   33       staff  0.77     3\n",
       "3     Trevin   40     manager  0.80     2\n",
       "4     Hailie   33     employe  0.78     3"
      ]
     },
     "execution_count": 36,
     "metadata": {},
     "output_type": "execute_result"
    }
   ],
   "source": [
    "df=pd.read_excel(\"C:\\\\Users\\\\New Pc\\\\Documents\\\\EX.7.xlsx\",sheet_name=\"Sheet2\")\n",
    "df.head()"
   ]
  },
  {
   "cell_type": "code",
   "execution_count": 37,
   "metadata": {},
   "outputs": [
    {
     "data": {
      "text/plain": [
       "Name            object\n",
       "Age              int64\n",
       "Designation     object\n",
       "HCRI           float64\n",
       "BARS             int64\n",
       "dtype: object"
      ]
     },
     "execution_count": 37,
     "metadata": {},
     "output_type": "execute_result"
    }
   ],
   "source": [
    "df.dtypes"
   ]
  },
  {
   "cell_type": "code",
   "execution_count": 38,
   "metadata": {},
   "outputs": [
    {
     "name": "stdout",
     "output_type": "stream",
     "text": [
      "          HCRI      BARS\n",
      "HCRI  1.000000 -0.152211\n",
      "BARS -0.152211  1.000000\n"
     ]
    }
   ],
   "source": [
    "df_1= df[['HCRI','BARS']]\n",
    "cor = df_1.corr()\n",
    "print(cor.head())"
   ]
  },
  {
   "cell_type": "code",
   "execution_count": 39,
   "metadata": {},
   "outputs": [
    {
     "data": {
      "text/plain": [
       "Name           0\n",
       "Age            0\n",
       "Designation    0\n",
       "HCRI           0\n",
       "BARS           0\n",
       "dtype: int64"
      ]
     },
     "execution_count": 39,
     "metadata": {},
     "output_type": "execute_result"
    }
   ],
   "source": [
    "df.isnull().sum()"
   ]
  },
  {
   "cell_type": "code",
   "execution_count": 40,
   "metadata": {},
   "outputs": [
    {
     "data": {
      "text/plain": [
       "Name           148\n",
       "Age            148\n",
       "Designation    148\n",
       "HCRI           148\n",
       "BARS           148\n",
       "dtype: int64"
      ]
     },
     "execution_count": 40,
     "metadata": {},
     "output_type": "execute_result"
    }
   ],
   "source": [
    "df.count()"
   ]
  },
  {
   "cell_type": "code",
   "execution_count": 41,
   "metadata": {},
   "outputs": [],
   "source": [
    "from sklearn.cluster import KMeans\n",
    "from sklearn.preprocessing import StandardScaler"
   ]
  },
  {
   "cell_type": "code",
   "execution_count": 42,
   "metadata": {},
   "outputs": [],
   "source": [
    "profit=df['HCRI'].values\n",
    "cost=df['Age'].values\n",
    "feat=num.column_stack((profit,cost))\n",
    "model=KMeans(n_clusters=5,n_init=10)\n",
    "model.fit(feat)\n",
    "label = model.predict(feat)\n",
    "cluster_centers = model.cluster_centers_\n",
    "df['cluster']=label\n"
   ]
  },
  {
   "cell_type": "code",
   "execution_count": 43,
   "metadata": {},
   "outputs": [
    {
     "name": "stdout",
     "output_type": "stream",
     "text": [
      "     HCRI  AGE  Cluster\n",
      "0    0.78   36        2\n",
      "1    0.71   45        1\n",
      "2    0.77   33        2\n",
      "3    0.80   40        4\n",
      "4    0.78   33        2\n",
      "..    ...  ...      ...\n",
      "143  0.80   54        3\n",
      "144  0.78   48        1\n",
      "145  0.71   52        3\n",
      "146  0.77   37        2\n",
      "147  0.80   55        3\n",
      "\n",
      "[148 rows x 3 columns]\n"
     ]
    }
   ],
   "source": [
    "cluster_df = pd.DataFrame({\n",
    "    'HCRI': df['HCRI'],\n",
    "    'AGE': df['Age'],\n",
    "    'Cluster': df['cluster']\n",
    "})\n",
    "print(cluster_df)"
   ]
  },
  {
   "cell_type": "code",
   "execution_count": 44,
   "metadata": {},
   "outputs": [],
   "source": [
    "profit=df['BARS'].values\n",
    "cost=df['Age'].values\n",
    "feat=num.column_stack((profit,cost))\n",
    "model=KMeans(n_clusters=5,n_init=10)\n",
    "model.fit(feat)\n",
    "label = model.predict(feat)\n",
    "cluster_centers = model.cluster_centers_\n",
    "df['cluster']=label\n"
   ]
  },
  {
   "cell_type": "code",
   "execution_count": 45,
   "metadata": {},
   "outputs": [
    {
     "name": "stdout",
     "output_type": "stream",
     "text": [
      "     BARS  AGE  Cluster\n",
      "0       4   36        3\n",
      "1       3   45        1\n",
      "2       3   33        3\n",
      "3       2   40        4\n",
      "4       3   33        3\n",
      "..    ...  ...      ...\n",
      "143     3   54        2\n",
      "144     3   48        1\n",
      "145     3   52        2\n",
      "146     2   37        3\n",
      "147     3   55        2\n",
      "\n",
      "[148 rows x 3 columns]\n"
     ]
    }
   ],
   "source": [
    "cluster_df = pd.DataFrame({\n",
    "    'BARS': df['BARS'],\n",
    "    'AGE': df['Age'],\n",
    "    'Cluster': df['cluster']\n",
    "})\n",
    "print(cluster_df)"
   ]
  }
 ],
 "metadata": {
  "kernelspec": {
   "display_name": "Python 3",
   "language": "python",
   "name": "python3"
  },
  "language_info": {
   "codemirror_mode": {
    "name": "ipython",
    "version": 3
   },
   "file_extension": ".py",
   "mimetype": "text/x-python",
   "name": "python",
   "nbconvert_exporter": "python",
   "pygments_lexer": "ipython3",
   "version": "3.11.2"
  },
  "orig_nbformat": 4
 },
 "nbformat": 4,
 "nbformat_minor": 2
}
